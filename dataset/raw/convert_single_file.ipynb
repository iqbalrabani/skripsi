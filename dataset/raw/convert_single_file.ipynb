{
 "cells": [
  {
   "cell_type": "code",
   "execution_count": 1,
   "id": "8482bfca-5e98-42d9-8788-d523b8d461fb",
   "metadata": {},
   "outputs": [
    {
     "name": "stdout",
     "output_type": "stream",
     "text": [
      "Konversi selesai!\n"
     ]
    }
   ],
   "source": [
    "import pandas as pd\n",
    "\n",
    "# Ganti 'input.xlsx' dengan nama file Excel Anda\n",
    "excel_file = 'data_6.1~6.15.xlsx'\n",
    "\n",
    "# Baca file Excel\n",
    "df = pd.read_excel(excel_file)\n",
    "\n",
    "# Simpan sebagai file CSV\n",
    "df.to_csv('dataset_15d.csv', index=False)\n",
    "\n",
    "print(\"Konversi selesai!\")"
   ]
  }
 ],
 "metadata": {
  "kernelspec": {
   "display_name": "Iqbal",
   "language": "python",
   "name": "iqbal_env"
  },
  "language_info": {
   "codemirror_mode": {
    "name": "ipython",
    "version": 3
   },
   "file_extension": ".py",
   "mimetype": "text/x-python",
   "name": "python",
   "nbconvert_exporter": "python",
   "pygments_lexer": "ipython3",
   "version": "3.10.16"
  }
 },
 "nbformat": 4,
 "nbformat_minor": 5
}
