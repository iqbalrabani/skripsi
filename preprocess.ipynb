{
 "cells": [
  {
   "cell_type": "markdown",
   "id": "49785c07-c36a-4152-b1e0-a7dd00271750",
   "metadata": {
    "tags": []
   },
   "source": [
    "### Library"
   ]
  },
  {
   "cell_type": "code",
   "execution_count": 2,
   "id": "cde29de8-85f8-44bb-b747-bd9f3581e037",
   "metadata": {},
   "outputs": [],
   "source": [
    "import pandas as pd\n",
    "import numpy as np\n",
    "import os"
   ]
  },
  {
   "cell_type": "markdown",
   "id": "c5cce82f-72cb-4bcb-97aa-ee359145b2c3",
   "metadata": {},
   "source": [
    "### Input Raw Data (6m)"
   ]
  },
  {
   "cell_type": "code",
   "execution_count": 3,
   "id": "eb4d6a50-cca1-4f31-9c0c-2380ad83351f",
   "metadata": {},
   "outputs": [
    {
     "data": {
      "text/html": [
       "<div>\n",
       "<style scoped>\n",
       "    .dataframe tbody tr th:only-of-type {\n",
       "        vertical-align: middle;\n",
       "    }\n",
       "\n",
       "    .dataframe tbody tr th {\n",
       "        vertical-align: top;\n",
       "    }\n",
       "\n",
       "    .dataframe thead th {\n",
       "        text-align: right;\n",
       "    }\n",
       "</style>\n",
       "<table border=\"1\" class=\"dataframe\">\n",
       "  <thead>\n",
       "    <tr style=\"text-align: right;\">\n",
       "      <th></th>\n",
       "      <th>month</th>\n",
       "      <th>date</th>\n",
       "      <th>start time</th>\n",
       "      <th>end time</th>\n",
       "      <th>latitude</th>\n",
       "      <th>longitude</th>\n",
       "      <th>user id</th>\n",
       "    </tr>\n",
       "  </thead>\n",
       "  <tbody>\n",
       "    <tr>\n",
       "      <th>0</th>\n",
       "      <td>201411</td>\n",
       "      <td>1</td>\n",
       "      <td>2014-11-01 09:18:08</td>\n",
       "      <td>2014-11-01 09:34:25</td>\n",
       "      <td>NaN</td>\n",
       "      <td>NaN</td>\n",
       "      <td>57ec951bde737466587feaed0d806a11</td>\n",
       "    </tr>\n",
       "    <tr>\n",
       "      <th>1</th>\n",
       "      <td>201411</td>\n",
       "      <td>1</td>\n",
       "      <td>2014-11-01 18:12:01</td>\n",
       "      <td>2014-11-01 18:22:34</td>\n",
       "      <td>NaN</td>\n",
       "      <td>NaN</td>\n",
       "      <td>cd6e779892f6c03e22211b25409ba75e</td>\n",
       "    </tr>\n",
       "    <tr>\n",
       "      <th>2</th>\n",
       "      <td>201411</td>\n",
       "      <td>1</td>\n",
       "      <td>2014-11-01 18:12:02</td>\n",
       "      <td>2014-11-01 18:21:00</td>\n",
       "      <td>NaN</td>\n",
       "      <td>NaN</td>\n",
       "      <td>cd6e779892f6c03e22211b25409ba75e</td>\n",
       "    </tr>\n",
       "    <tr>\n",
       "      <th>3</th>\n",
       "      <td>201411</td>\n",
       "      <td>1</td>\n",
       "      <td>2014-11-01 15:33:03</td>\n",
       "      <td>2014-11-01 15:34:43</td>\n",
       "      <td>NaN</td>\n",
       "      <td>NaN</td>\n",
       "      <td>b341b594239f8b8d36ed78394426af68</td>\n",
       "    </tr>\n",
       "    <tr>\n",
       "      <th>4</th>\n",
       "      <td>201411</td>\n",
       "      <td>1</td>\n",
       "      <td>2014-11-01 15:19:10</td>\n",
       "      <td>2014-11-01 15:20:10</td>\n",
       "      <td>NaN</td>\n",
       "      <td>NaN</td>\n",
       "      <td>b341b594239f8b8d36ed78394426af68</td>\n",
       "    </tr>\n",
       "  </tbody>\n",
       "</table>\n",
       "</div>"
      ],
      "text/plain": [
       "    month  date           start time             end time  latitude  \\\n",
       "0  201411     1  2014-11-01 09:18:08  2014-11-01 09:34:25       NaN   \n",
       "1  201411     1  2014-11-01 18:12:01  2014-11-01 18:22:34       NaN   \n",
       "2  201411     1  2014-11-01 18:12:02  2014-11-01 18:21:00       NaN   \n",
       "3  201411     1  2014-11-01 15:33:03  2014-11-01 15:34:43       NaN   \n",
       "4  201411     1  2014-11-01 15:19:10  2014-11-01 15:20:10       NaN   \n",
       "\n",
       "   longitude                           user id  \n",
       "0        NaN  57ec951bde737466587feaed0d806a11  \n",
       "1        NaN  cd6e779892f6c03e22211b25409ba75e  \n",
       "2        NaN  cd6e779892f6c03e22211b25409ba75e  \n",
       "3        NaN  b341b594239f8b8d36ed78394426af68  \n",
       "4        NaN  b341b594239f8b8d36ed78394426af68  "
      ]
     },
     "execution_count": 3,
     "metadata": {},
     "output_type": "execute_result"
    }
   ],
   "source": [
    "df = pd.read_csv('./dataset/raw/dataset_6m.csv')\n",
    "df.head()"
   ]
  },
  {
   "cell_type": "markdown",
   "id": "0ab829a6-8278-4fea-9ef2-2b05402b9288",
   "metadata": {},
   "source": [
    "### Input Raw Data (15d)"
   ]
  },
  {
   "cell_type": "code",
   "execution_count": 4,
   "id": "c891189d-0627-4c4b-9669-8330a7e8ed25",
   "metadata": {},
   "outputs": [
    {
     "data": {
      "text/html": [
       "<div>\n",
       "<style scoped>\n",
       "    .dataframe tbody tr th:only-of-type {\n",
       "        vertical-align: middle;\n",
       "    }\n",
       "\n",
       "    .dataframe tbody tr th {\n",
       "        vertical-align: top;\n",
       "    }\n",
       "\n",
       "    .dataframe thead th {\n",
       "        text-align: right;\n",
       "    }\n",
       "</style>\n",
       "<table border=\"1\" class=\"dataframe\">\n",
       "  <thead>\n",
       "    <tr style=\"text-align: right;\">\n",
       "      <th></th>\n",
       "      <th>month</th>\n",
       "      <th>date</th>\n",
       "      <th>start time</th>\n",
       "      <th>end time</th>\n",
       "      <th>latitude</th>\n",
       "      <th>longitude</th>\n",
       "      <th>user id</th>\n",
       "    </tr>\n",
       "  </thead>\n",
       "  <tbody>\n",
       "    <tr>\n",
       "      <th>0</th>\n",
       "      <td>201406</td>\n",
       "      <td>1</td>\n",
       "      <td>2014-06-01 10:22:36</td>\n",
       "      <td>2014-06-01 11:09:52</td>\n",
       "      <td>31.237872</td>\n",
       "      <td>121.470259</td>\n",
       "      <td>edbc54bddf16494a49f39ac057b4185d</td>\n",
       "    </tr>\n",
       "    <tr>\n",
       "      <th>1</th>\n",
       "      <td>201406</td>\n",
       "      <td>1</td>\n",
       "      <td>2014-06-01 07:00:37</td>\n",
       "      <td>2014-06-01 08:49:20</td>\n",
       "      <td>31.237872</td>\n",
       "      <td>121.470259</td>\n",
       "      <td>f8206ab58b9bdb070673f7050242e9ee</td>\n",
       "    </tr>\n",
       "    <tr>\n",
       "      <th>2</th>\n",
       "      <td>201406</td>\n",
       "      <td>1</td>\n",
       "      <td>2014-06-01 02:49:16</td>\n",
       "      <td>2014-06-01 05:49:12</td>\n",
       "      <td>31.237872</td>\n",
       "      <td>121.470259</td>\n",
       "      <td>f8206ab58b9bdb070673f7050242e9ee</td>\n",
       "    </tr>\n",
       "    <tr>\n",
       "      <th>3</th>\n",
       "      <td>201406</td>\n",
       "      <td>1</td>\n",
       "      <td>2014-06-01 08:51:58</td>\n",
       "      <td>2014-06-01 09:20:50</td>\n",
       "      <td>31.237872</td>\n",
       "      <td>121.470259</td>\n",
       "      <td>f8206ab58b9bdb070673f7050242e9ee</td>\n",
       "    </tr>\n",
       "    <tr>\n",
       "      <th>4</th>\n",
       "      <td>201406</td>\n",
       "      <td>1</td>\n",
       "      <td>2014-05-31 23:49:10</td>\n",
       "      <td>2014-06-01 02:49:07</td>\n",
       "      <td>31.237872</td>\n",
       "      <td>121.470259</td>\n",
       "      <td>f8206ab58b9bdb070673f7050242e9ee</td>\n",
       "    </tr>\n",
       "  </tbody>\n",
       "</table>\n",
       "</div>"
      ],
      "text/plain": [
       "    month  date           start time             end time   latitude  \\\n",
       "0  201406     1  2014-06-01 10:22:36  2014-06-01 11:09:52  31.237872   \n",
       "1  201406     1  2014-06-01 07:00:37  2014-06-01 08:49:20  31.237872   \n",
       "2  201406     1  2014-06-01 02:49:16  2014-06-01 05:49:12  31.237872   \n",
       "3  201406     1  2014-06-01 08:51:58  2014-06-01 09:20:50  31.237872   \n",
       "4  201406     1  2014-05-31 23:49:10  2014-06-01 02:49:07  31.237872   \n",
       "\n",
       "    longitude                           user id  \n",
       "0  121.470259  edbc54bddf16494a49f39ac057b4185d  \n",
       "1  121.470259  f8206ab58b9bdb070673f7050242e9ee  \n",
       "2  121.470259  f8206ab58b9bdb070673f7050242e9ee  \n",
       "3  121.470259  f8206ab58b9bdb070673f7050242e9ee  \n",
       "4  121.470259  f8206ab58b9bdb070673f7050242e9ee  "
      ]
     },
     "execution_count": 4,
     "metadata": {},
     "output_type": "execute_result"
    }
   ],
   "source": [
    "df_min = pd.read_csv('./dataset/raw/dataset_15d.csv')\n",
    "df_min.head()"
   ]
  },
  {
   "cell_type": "markdown",
   "id": "0605b8e8-91c8-496e-9713-e83c2265ae30",
   "metadata": {
    "tags": []
   },
   "source": [
    "### Overview Data"
   ]
  },
  {
   "cell_type": "code",
   "execution_count": 23,
   "id": "82721740-3aec-404b-9b59-77f178e69efb",
   "metadata": {},
   "outputs": [
    {
     "name": "stdout",
     "output_type": "stream",
     "text": [
      "Jumlah missing data:\n"
     ]
    },
    {
     "data": {
      "text/plain": [
       "month         563914\n",
       "date          563914\n",
       "start time    563914\n",
       "end time      563914\n",
       "latitude      563914\n",
       "longitude     563914\n",
       "user id       563914\n",
       "address       563914\n",
       "dtype: int64"
      ]
     },
     "execution_count": 23,
     "metadata": {},
     "output_type": "execute_result"
    }
   ],
   "source": [
    "print(\"Jumlah missing data:\")\n",
    "df_min.count()"
   ]
  },
  {
   "cell_type": "code",
   "execution_count": 4,
   "id": "965f4313-81f6-485a-96f2-89997164d5c7",
   "metadata": {},
   "outputs": [
    {
     "name": "stdout",
     "output_type": "stream",
     "text": [
      "\n",
      " Jumlah unique tiap kolom:\n"
     ]
    },
    {
     "data": {
      "text/plain": [
       "month               6\n",
       "date               31\n",
       "start time    5326416\n",
       "end time      5342942\n",
       "latitude         3025\n",
       "longitude        3035\n",
       "user id          9739\n",
       "dtype: int64"
      ]
     },
     "execution_count": 4,
     "metadata": {},
     "output_type": "execute_result"
    }
   ],
   "source": [
    "print(\"\\n Jumlah unique tiap kolom:\")\n",
    "df.nunique()"
   ]
  },
  {
   "cell_type": "code",
   "execution_count": 5,
   "id": "a768c5b2-e960-4640-bf04-3cf79d9538b4",
   "metadata": {},
   "outputs": [
    {
     "name": "stdout",
     "output_type": "stream",
     "text": [
      "Jumlah record tiap kolom:\n"
     ]
    },
    {
     "data": {
      "text/plain": [
       "month         6952921\n",
       "date          6952921\n",
       "start time    6952921\n",
       "end time      6952921\n",
       "latitude      6236620\n",
       "longitude     6236620\n",
       "user id       6952921\n",
       "dtype: int64"
      ]
     },
     "execution_count": 5,
     "metadata": {},
     "output_type": "execute_result"
    }
   ],
   "source": [
    "print(\"Jumlah record tiap kolom:\")\n",
    "df.count()"
   ]
  },
  {
   "cell_type": "code",
   "execution_count": 6,
   "id": "b145eb6d-39e5-4bbc-944e-59c44314ec55",
   "metadata": {},
   "outputs": [
    {
     "name": "stdout",
     "output_type": "stream",
     "text": [
      "Jumlah missing data:\n"
     ]
    },
    {
     "data": {
      "text/plain": [
       "month              0\n",
       "date               0\n",
       "start time         0\n",
       "end time           0\n",
       "latitude      716301\n",
       "longitude     716301\n",
       "user id            0\n",
       "dtype: int64"
      ]
     },
     "execution_count": 6,
     "metadata": {},
     "output_type": "execute_result"
    }
   ],
   "source": [
    "print(\"Jumlah missing data:\")\n",
    "df.isnull().sum()"
   ]
  },
  {
   "cell_type": "markdown",
   "id": "df69bf60-301e-43f3-b191-e8a3c6006ad8",
   "metadata": {},
   "source": [
    "### Sort by Time"
   ]
  },
  {
   "cell_type": "code",
   "execution_count": 5,
   "id": "e4941b63-9ea5-4cab-8749-7ce04462cb1b",
   "metadata": {},
   "outputs": [
    {
     "data": {
      "text/html": [
       "<div>\n",
       "<style scoped>\n",
       "    .dataframe tbody tr th:only-of-type {\n",
       "        vertical-align: middle;\n",
       "    }\n",
       "\n",
       "    .dataframe tbody tr th {\n",
       "        vertical-align: top;\n",
       "    }\n",
       "\n",
       "    .dataframe thead th {\n",
       "        text-align: right;\n",
       "    }\n",
       "</style>\n",
       "<table border=\"1\" class=\"dataframe\">\n",
       "  <thead>\n",
       "    <tr style=\"text-align: right;\">\n",
       "      <th></th>\n",
       "      <th>month</th>\n",
       "      <th>date</th>\n",
       "      <th>start time</th>\n",
       "      <th>end time</th>\n",
       "      <th>latitude</th>\n",
       "      <th>longitude</th>\n",
       "      <th>user id</th>\n",
       "    </tr>\n",
       "  </thead>\n",
       "  <tbody>\n",
       "    <tr>\n",
       "      <th>4013529</th>\n",
       "      <td>201406</td>\n",
       "      <td>1</td>\n",
       "      <td>2014-05-31 23:00:00</td>\n",
       "      <td>2014-06-01 00:35:50</td>\n",
       "      <td>31.414397</td>\n",
       "      <td>121.481621</td>\n",
       "      <td>b7819940e64f9e6628ff74fa32a7a8c7</td>\n",
       "    </tr>\n",
       "    <tr>\n",
       "      <th>4005827</th>\n",
       "      <td>201406</td>\n",
       "      <td>1</td>\n",
       "      <td>2014-05-31 23:00:00</td>\n",
       "      <td>2014-05-31 23:47:48</td>\n",
       "      <td>31.078791</td>\n",
       "      <td>121.422082</td>\n",
       "      <td>6fe80cbb5ec2dcf9ab5c54fe4ba92097</td>\n",
       "    </tr>\n",
       "    <tr>\n",
       "      <th>4023299</th>\n",
       "      <td>201406</td>\n",
       "      <td>1</td>\n",
       "      <td>2014-05-31 23:00:00</td>\n",
       "      <td>2014-06-01 01:04:51</td>\n",
       "      <td>31.319806</td>\n",
       "      <td>121.526248</td>\n",
       "      <td>b5a3510406b303f1a1f669bb877868e1</td>\n",
       "    </tr>\n",
       "    <tr>\n",
       "      <th>4000899</th>\n",
       "      <td>201406</td>\n",
       "      <td>1</td>\n",
       "      <td>2014-05-31 23:00:00</td>\n",
       "      <td>2014-06-01 00:21:06</td>\n",
       "      <td>31.040378</td>\n",
       "      <td>121.255563</td>\n",
       "      <td>bc36fa834270807686c235ab52bb827a</td>\n",
       "    </tr>\n",
       "    <tr>\n",
       "      <th>4030612</th>\n",
       "      <td>201406</td>\n",
       "      <td>1</td>\n",
       "      <td>2014-05-31 23:00:00</td>\n",
       "      <td>2014-06-01 00:32:14</td>\n",
       "      <td>31.202912</td>\n",
       "      <td>121.712449</td>\n",
       "      <td>4abcaddda743fefbac7c16a2961ff342</td>\n",
       "    </tr>\n",
       "  </tbody>\n",
       "</table>\n",
       "</div>"
      ],
      "text/plain": [
       "          month  date          start time             end time   latitude  \\\n",
       "4013529  201406     1 2014-05-31 23:00:00  2014-06-01 00:35:50  31.414397   \n",
       "4005827  201406     1 2014-05-31 23:00:00  2014-05-31 23:47:48  31.078791   \n",
       "4023299  201406     1 2014-05-31 23:00:00  2014-06-01 01:04:51  31.319806   \n",
       "4000899  201406     1 2014-05-31 23:00:00  2014-06-01 00:21:06  31.040378   \n",
       "4030612  201406     1 2014-05-31 23:00:00  2014-06-01 00:32:14  31.202912   \n",
       "\n",
       "          longitude                           user id  \n",
       "4013529  121.481621  b7819940e64f9e6628ff74fa32a7a8c7  \n",
       "4005827  121.422082  6fe80cbb5ec2dcf9ab5c54fe4ba92097  \n",
       "4023299  121.526248  b5a3510406b303f1a1f669bb877868e1  \n",
       "4000899  121.255563  bc36fa834270807686c235ab52bb827a  \n",
       "4030612  121.712449  4abcaddda743fefbac7c16a2961ff342  "
      ]
     },
     "execution_count": 5,
     "metadata": {},
     "output_type": "execute_result"
    }
   ],
   "source": [
    "df['start time'] = pd.to_datetime(df['start time'])\n",
    "df_sorted = df.sort_values(by='start time')\n",
    "df_sorted.head()"
   ]
  },
  {
   "cell_type": "markdown",
   "id": "f75d83c1-ba31-4fe0-8501-76e81f2829f1",
   "metadata": {},
   "source": [
    "##### Note:\n",
    "\n",
    "- df = dataframe\n",
    "- bs = base station\n",
    "- all = dataset in 6 months range\n",
    "- min = dataset in 15 days range"
   ]
  },
  {
   "cell_type": "markdown",
   "id": "089892f3-00fd-4212-ad74-2f4e5f0e5c04",
   "metadata": {},
   "source": [
    "### All Data (6 Months)"
   ]
  },
  {
   "cell_type": "code",
   "execution_count": 6,
   "id": "2c4e7d98-8c22-43c5-b881-7820d57acb59",
   "metadata": {},
   "outputs": [],
   "source": [
    "df_all = df.dropna()"
   ]
  },
  {
   "cell_type": "code",
   "execution_count": 7,
   "id": "0f699cb8-b14f-4b38-b652-9b058f4978f9",
   "metadata": {},
   "outputs": [
    {
     "name": "stderr",
     "output_type": "stream",
     "text": [
      "/tmp/ipykernel_77885/2346694296.py:1: SettingWithCopyWarning: \n",
      "A value is trying to be set on a copy of a slice from a DataFrame.\n",
      "Try using .loc[row_indexer,col_indexer] = value instead\n",
      "\n",
      "See the caveats in the documentation: https://pandas.pydata.org/pandas-docs/stable/user_guide/indexing.html#returning-a-view-versus-a-copy\n",
      "  df_all['address'] = df_all.apply(lambda x: str(x['latitude']) + '-' + str(x['longitude']), axis=1)\n"
     ]
    }
   ],
   "source": [
    "df_all['address'] = df_all.apply(lambda x: str(x['latitude']) + '-' + str(x['longitude']), axis=1)"
   ]
  },
  {
   "cell_type": "code",
   "execution_count": 8,
   "id": "ea4cc0a9-addb-43a8-8ebb-36968ee301b6",
   "metadata": {},
   "outputs": [],
   "source": [
    "df_all.to_csv(f'./dataset/data_all.csv')"
   ]
  },
  {
   "cell_type": "code",
   "execution_count": 11,
   "id": "2b35acd8-d58a-4711-9e8f-8a86f186101c",
   "metadata": {},
   "outputs": [
    {
     "data": {
      "text/html": [
       "<div>\n",
       "<style scoped>\n",
       "    .dataframe tbody tr th:only-of-type {\n",
       "        vertical-align: middle;\n",
       "    }\n",
       "\n",
       "    .dataframe tbody tr th {\n",
       "        vertical-align: top;\n",
       "    }\n",
       "\n",
       "    .dataframe thead th {\n",
       "        text-align: right;\n",
       "    }\n",
       "</style>\n",
       "<table border=\"1\" class=\"dataframe\">\n",
       "  <thead>\n",
       "    <tr style=\"text-align: right;\">\n",
       "      <th></th>\n",
       "      <th>month</th>\n",
       "      <th>date</th>\n",
       "      <th>start time</th>\n",
       "      <th>end time</th>\n",
       "      <th>latitude</th>\n",
       "      <th>longitude</th>\n",
       "      <th>user id</th>\n",
       "      <th>address</th>\n",
       "    </tr>\n",
       "  </thead>\n",
       "  <tbody>\n",
       "    <tr>\n",
       "      <th>184</th>\n",
       "      <td>201411</td>\n",
       "      <td>1</td>\n",
       "      <td>2014-11-01 09:14:54</td>\n",
       "      <td>2014-11-01 09:31:41</td>\n",
       "      <td>31.237872</td>\n",
       "      <td>121.470259</td>\n",
       "      <td>0e89b23b6d5824cf6556d06716c65f54</td>\n",
       "      <td>31.237872-121.470259</td>\n",
       "    </tr>\n",
       "    <tr>\n",
       "      <th>185</th>\n",
       "      <td>201411</td>\n",
       "      <td>1</td>\n",
       "      <td>2014-11-01 15:45:01</td>\n",
       "      <td>2014-11-01 15:53:24</td>\n",
       "      <td>31.237872</td>\n",
       "      <td>121.470259</td>\n",
       "      <td>1709f1d6ad0d111ecedc9e64ab11437d</td>\n",
       "      <td>31.237872-121.470259</td>\n",
       "    </tr>\n",
       "    <tr>\n",
       "      <th>186</th>\n",
       "      <td>201411</td>\n",
       "      <td>1</td>\n",
       "      <td>2014-11-01 17:17:58</td>\n",
       "      <td>2014-11-01 17:22:12</td>\n",
       "      <td>31.237872</td>\n",
       "      <td>121.470259</td>\n",
       "      <td>78c83eaf21c356a2a3579e56df8e9488</td>\n",
       "      <td>31.237872-121.470259</td>\n",
       "    </tr>\n",
       "    <tr>\n",
       "      <th>187</th>\n",
       "      <td>201411</td>\n",
       "      <td>1</td>\n",
       "      <td>2014-11-01 13:44:00</td>\n",
       "      <td>2014-11-01 13:47:08</td>\n",
       "      <td>31.237872</td>\n",
       "      <td>121.470259</td>\n",
       "      <td>1709f1d6ad0d111ecedc9e64ab11437d</td>\n",
       "      <td>31.237872-121.470259</td>\n",
       "    </tr>\n",
       "    <tr>\n",
       "      <th>188</th>\n",
       "      <td>201411</td>\n",
       "      <td>1</td>\n",
       "      <td>2014-11-01 09:55:49</td>\n",
       "      <td>2014-11-01 12:49:06</td>\n",
       "      <td>31.237872</td>\n",
       "      <td>121.470259</td>\n",
       "      <td>1709f1d6ad0d111ecedc9e64ab11437d</td>\n",
       "      <td>31.237872-121.470259</td>\n",
       "    </tr>\n",
       "  </tbody>\n",
       "</table>\n",
       "</div>"
      ],
      "text/plain": [
       "      month  date          start time             end time   latitude  \\\n",
       "184  201411     1 2014-11-01 09:14:54  2014-11-01 09:31:41  31.237872   \n",
       "185  201411     1 2014-11-01 15:45:01  2014-11-01 15:53:24  31.237872   \n",
       "186  201411     1 2014-11-01 17:17:58  2014-11-01 17:22:12  31.237872   \n",
       "187  201411     1 2014-11-01 13:44:00  2014-11-01 13:47:08  31.237872   \n",
       "188  201411     1 2014-11-01 09:55:49  2014-11-01 12:49:06  31.237872   \n",
       "\n",
       "      longitude                           user id               address  \n",
       "184  121.470259  0e89b23b6d5824cf6556d06716c65f54  31.237872-121.470259  \n",
       "185  121.470259  1709f1d6ad0d111ecedc9e64ab11437d  31.237872-121.470259  \n",
       "186  121.470259  78c83eaf21c356a2a3579e56df8e9488  31.237872-121.470259  \n",
       "187  121.470259  1709f1d6ad0d111ecedc9e64ab11437d  31.237872-121.470259  \n",
       "188  121.470259  1709f1d6ad0d111ecedc9e64ab11437d  31.237872-121.470259  "
      ]
     },
     "execution_count": 11,
     "metadata": {},
     "output_type": "execute_result"
    }
   ],
   "source": [
    "df_all.head()"
   ]
  },
  {
   "cell_type": "code",
   "execution_count": 12,
   "id": "93b4b3be-b650-41ef-921b-2f6e1734d09c",
   "metadata": {},
   "outputs": [
    {
     "data": {
      "text/plain": [
       "month               6\n",
       "date               31\n",
       "start time    4893125\n",
       "end time      4908971\n",
       "latitude         3025\n",
       "longitude        3035\n",
       "user id          9618\n",
       "address          3042\n",
       "dtype: int64"
      ]
     },
     "execution_count": 12,
     "metadata": {},
     "output_type": "execute_result"
    }
   ],
   "source": [
    "df_all.nunique()"
   ]
  },
  {
   "cell_type": "code",
   "execution_count": 9,
   "id": "ea22679b-4f49-4b2b-a8a4-6d99bafdbb84",
   "metadata": {},
   "outputs": [],
   "source": [
    "df_all = df_all[['latitude', 'longitude', 'address']].drop_duplicates()"
   ]
  },
  {
   "cell_type": "code",
   "execution_count": 10,
   "id": "d2ca898a-ef14-4060-928f-4f3ebc41d73c",
   "metadata": {},
   "outputs": [
    {
     "data": {
      "text/html": [
       "<div>\n",
       "<style scoped>\n",
       "    .dataframe tbody tr th:only-of-type {\n",
       "        vertical-align: middle;\n",
       "    }\n",
       "\n",
       "    .dataframe tbody tr th {\n",
       "        vertical-align: top;\n",
       "    }\n",
       "\n",
       "    .dataframe thead th {\n",
       "        text-align: right;\n",
       "    }\n",
       "</style>\n",
       "<table border=\"1\" class=\"dataframe\">\n",
       "  <thead>\n",
       "    <tr style=\"text-align: right;\">\n",
       "      <th></th>\n",
       "      <th>latitude</th>\n",
       "      <th>longitude</th>\n",
       "      <th>address</th>\n",
       "      <th>id</th>\n",
       "    </tr>\n",
       "  </thead>\n",
       "  <tbody>\n",
       "    <tr>\n",
       "      <th>0</th>\n",
       "      <td>31.237872</td>\n",
       "      <td>121.470259</td>\n",
       "      <td>31.237872-121.470259</td>\n",
       "      <td>0</td>\n",
       "    </tr>\n",
       "    <tr>\n",
       "      <th>1</th>\n",
       "      <td>31.232877</td>\n",
       "      <td>121.487530</td>\n",
       "      <td>31.232877-121.48753</td>\n",
       "      <td>1</td>\n",
       "    </tr>\n",
       "    <tr>\n",
       "      <th>2</th>\n",
       "      <td>31.232548</td>\n",
       "      <td>121.478971</td>\n",
       "      <td>31.232548-121.478971</td>\n",
       "      <td>2</td>\n",
       "    </tr>\n",
       "    <tr>\n",
       "      <th>3</th>\n",
       "      <td>31.227933</td>\n",
       "      <td>121.453610</td>\n",
       "      <td>31.227933-121.45361</td>\n",
       "      <td>3</td>\n",
       "    </tr>\n",
       "    <tr>\n",
       "      <th>4</th>\n",
       "      <td>31.235682</td>\n",
       "      <td>121.487831</td>\n",
       "      <td>31.235682-121.487831</td>\n",
       "      <td>4</td>\n",
       "    </tr>\n",
       "    <tr>\n",
       "      <th>...</th>\n",
       "      <td>...</td>\n",
       "      <td>...</td>\n",
       "      <td>...</td>\n",
       "      <td>...</td>\n",
       "    </tr>\n",
       "    <tr>\n",
       "      <th>3037</th>\n",
       "      <td>31.189711</td>\n",
       "      <td>121.363392</td>\n",
       "      <td>31.189711-121.363392</td>\n",
       "      <td>3037</td>\n",
       "    </tr>\n",
       "    <tr>\n",
       "      <th>3038</th>\n",
       "      <td>31.220242</td>\n",
       "      <td>121.403403</td>\n",
       "      <td>31.220242-121.403403</td>\n",
       "      <td>3038</td>\n",
       "    </tr>\n",
       "    <tr>\n",
       "      <th>3039</th>\n",
       "      <td>31.224268</td>\n",
       "      <td>121.482064</td>\n",
       "      <td>31.224268-121.482064</td>\n",
       "      <td>3039</td>\n",
       "    </tr>\n",
       "    <tr>\n",
       "      <th>3040</th>\n",
       "      <td>31.218517</td>\n",
       "      <td>121.477878</td>\n",
       "      <td>31.218517-121.477878</td>\n",
       "      <td>3040</td>\n",
       "    </tr>\n",
       "    <tr>\n",
       "      <th>3041</th>\n",
       "      <td>31.202376</td>\n",
       "      <td>121.434660</td>\n",
       "      <td>31.202376-121.43466</td>\n",
       "      <td>3041</td>\n",
       "    </tr>\n",
       "  </tbody>\n",
       "</table>\n",
       "<p>3042 rows × 4 columns</p>\n",
       "</div>"
      ],
      "text/plain": [
       "       latitude   longitude               address    id\n",
       "0     31.237872  121.470259  31.237872-121.470259     0\n",
       "1     31.232877  121.487530   31.232877-121.48753     1\n",
       "2     31.232548  121.478971  31.232548-121.478971     2\n",
       "3     31.227933  121.453610   31.227933-121.45361     3\n",
       "4     31.235682  121.487831  31.235682-121.487831     4\n",
       "...         ...         ...                   ...   ...\n",
       "3037  31.189711  121.363392  31.189711-121.363392  3037\n",
       "3038  31.220242  121.403403  31.220242-121.403403  3038\n",
       "3039  31.224268  121.482064  31.224268-121.482064  3039\n",
       "3040  31.218517  121.477878  31.218517-121.477878  3040\n",
       "3041  31.202376  121.434660   31.202376-121.43466  3041\n",
       "\n",
       "[3042 rows x 4 columns]"
      ]
     },
     "execution_count": 10,
     "metadata": {},
     "output_type": "execute_result"
    }
   ],
   "source": [
    "bs_all = df_all[['latitude', 'longitude', 'address']].drop_duplicates()\n",
    "bs_all = bs_all.reset_index()\n",
    "bs_all['id'] = bs_all.index\n",
    "bs_all.drop(['index'], axis=1)"
   ]
  },
  {
   "cell_type": "code",
   "execution_count": 11,
   "id": "f85292a9-d52e-4927-a8f5-cf0ae916924d",
   "metadata": {},
   "outputs": [],
   "source": [
    "bs_all.to_csv('./dataset/bs_all.csv')"
   ]
  },
  {
   "cell_type": "code",
   "execution_count": 16,
   "id": "2ddf8bc9-2ccd-46db-b7ad-2423f7162dff",
   "metadata": {},
   "outputs": [
    {
     "data": {
      "text/plain": [
       "index        3042\n",
       "latitude     3025\n",
       "longitude    3035\n",
       "address      3042\n",
       "id           3042\n",
       "dtype: int64"
      ]
     },
     "execution_count": 16,
     "metadata": {},
     "output_type": "execute_result"
    }
   ],
   "source": [
    "bs_all.nunique()"
   ]
  },
  {
   "cell_type": "markdown",
   "id": "7bbea8d5-54d3-4c51-a47a-15de5f1c53f4",
   "metadata": {},
   "source": [
    "### Min Data (15 Days)"
   ]
  },
  {
   "cell_type": "code",
   "execution_count": 12,
   "id": "f9b0d1aa-b52f-4de9-b3de-f8cb3c77e518",
   "metadata": {},
   "outputs": [],
   "source": [
    "df_min = df_min.dropna()\n",
    "df_min['address'] = df_min.apply(lambda x: str(x['latitude']) + '-' + str(x['longitude']), axis=1)\n",
    "df_min.to_csv(f'./dataset/data_min.csv')"
   ]
  },
  {
   "cell_type": "code",
   "execution_count": 13,
   "id": "40b0ef32-ff4a-4465-8a06-0f2b79be1e88",
   "metadata": {},
   "outputs": [],
   "source": [
    "bs_min = df_min[['latitude', 'longitude', 'address']].drop_duplicates()"
   ]
  },
  {
   "cell_type": "code",
   "execution_count": 14,
   "id": "65af6d4f-4ff5-4146-9fe6-7a3ad90523fe",
   "metadata": {},
   "outputs": [
    {
     "data": {
      "text/html": [
       "<div>\n",
       "<style scoped>\n",
       "    .dataframe tbody tr th:only-of-type {\n",
       "        vertical-align: middle;\n",
       "    }\n",
       "\n",
       "    .dataframe tbody tr th {\n",
       "        vertical-align: top;\n",
       "    }\n",
       "\n",
       "    .dataframe thead th {\n",
       "        text-align: right;\n",
       "    }\n",
       "</style>\n",
       "<table border=\"1\" class=\"dataframe\">\n",
       "  <thead>\n",
       "    <tr style=\"text-align: right;\">\n",
       "      <th></th>\n",
       "      <th>latitude</th>\n",
       "      <th>longitude</th>\n",
       "      <th>address</th>\n",
       "      <th>id</th>\n",
       "    </tr>\n",
       "  </thead>\n",
       "  <tbody>\n",
       "    <tr>\n",
       "      <th>0</th>\n",
       "      <td>31.237872</td>\n",
       "      <td>121.470259</td>\n",
       "      <td>31.237872-121.470259</td>\n",
       "      <td>0</td>\n",
       "    </tr>\n",
       "    <tr>\n",
       "      <th>1</th>\n",
       "      <td>31.246946</td>\n",
       "      <td>121.513919</td>\n",
       "      <td>31.246946-121.513919</td>\n",
       "      <td>1</td>\n",
       "    </tr>\n",
       "    <tr>\n",
       "      <th>2</th>\n",
       "      <td>31.232877</td>\n",
       "      <td>121.487530</td>\n",
       "      <td>31.232877-121.48753</td>\n",
       "      <td>2</td>\n",
       "    </tr>\n",
       "    <tr>\n",
       "      <th>3</th>\n",
       "      <td>31.227933</td>\n",
       "      <td>121.453610</td>\n",
       "      <td>31.227933-121.45361</td>\n",
       "      <td>3</td>\n",
       "    </tr>\n",
       "    <tr>\n",
       "      <th>4</th>\n",
       "      <td>31.235682</td>\n",
       "      <td>121.487831</td>\n",
       "      <td>31.235682-121.487831</td>\n",
       "      <td>4</td>\n",
       "    </tr>\n",
       "    <tr>\n",
       "      <th>...</th>\n",
       "      <td>...</td>\n",
       "      <td>...</td>\n",
       "      <td>...</td>\n",
       "      <td>...</td>\n",
       "    </tr>\n",
       "    <tr>\n",
       "      <th>2764</th>\n",
       "      <td>31.286523</td>\n",
       "      <td>121.538876</td>\n",
       "      <td>31.286523-121.538876</td>\n",
       "      <td>2764</td>\n",
       "    </tr>\n",
       "    <tr>\n",
       "      <th>2765</th>\n",
       "      <td>31.254745</td>\n",
       "      <td>121.556081</td>\n",
       "      <td>31.254745-121.556081</td>\n",
       "      <td>2765</td>\n",
       "    </tr>\n",
       "    <tr>\n",
       "      <th>2766</th>\n",
       "      <td>31.224006</td>\n",
       "      <td>121.423572</td>\n",
       "      <td>31.224006-121.423572</td>\n",
       "      <td>2766</td>\n",
       "    </tr>\n",
       "    <tr>\n",
       "      <th>2767</th>\n",
       "      <td>31.209070</td>\n",
       "      <td>121.436851</td>\n",
       "      <td>31.20907-121.436851</td>\n",
       "      <td>2767</td>\n",
       "    </tr>\n",
       "    <tr>\n",
       "      <th>2768</th>\n",
       "      <td>31.246433</td>\n",
       "      <td>121.443184</td>\n",
       "      <td>31.246433-121.443184</td>\n",
       "      <td>2768</td>\n",
       "    </tr>\n",
       "  </tbody>\n",
       "</table>\n",
       "<p>2769 rows × 4 columns</p>\n",
       "</div>"
      ],
      "text/plain": [
       "       latitude   longitude               address    id\n",
       "0     31.237872  121.470259  31.237872-121.470259     0\n",
       "1     31.246946  121.513919  31.246946-121.513919     1\n",
       "2     31.232877  121.487530   31.232877-121.48753     2\n",
       "3     31.227933  121.453610   31.227933-121.45361     3\n",
       "4     31.235682  121.487831  31.235682-121.487831     4\n",
       "...         ...         ...                   ...   ...\n",
       "2764  31.286523  121.538876  31.286523-121.538876  2764\n",
       "2765  31.254745  121.556081  31.254745-121.556081  2765\n",
       "2766  31.224006  121.423572  31.224006-121.423572  2766\n",
       "2767  31.209070  121.436851   31.20907-121.436851  2767\n",
       "2768  31.246433  121.443184  31.246433-121.443184  2768\n",
       "\n",
       "[2769 rows x 4 columns]"
      ]
     },
     "execution_count": 14,
     "metadata": {},
     "output_type": "execute_result"
    }
   ],
   "source": [
    "bs_min = bs_min.reset_index()\n",
    "bs_min['id'] = bs_min.index\n",
    "bs_min.drop(['index'], axis=1)"
   ]
  },
  {
   "cell_type": "code",
   "execution_count": 15,
   "id": "759056ee-a080-4681-b6e8-d7178e7bc56c",
   "metadata": {},
   "outputs": [],
   "source": [
    "bs_min.to_csv('./dataset/bs_min.csv')"
   ]
  },
  {
   "cell_type": "code",
   "execution_count": 21,
   "id": "d9c9314d-6479-4a7a-8e5b-b38657658a07",
   "metadata": {},
   "outputs": [
    {
     "data": {
      "text/html": [
       "<div>\n",
       "<style scoped>\n",
       "    .dataframe tbody tr th:only-of-type {\n",
       "        vertical-align: middle;\n",
       "    }\n",
       "\n",
       "    .dataframe tbody tr th {\n",
       "        vertical-align: top;\n",
       "    }\n",
       "\n",
       "    .dataframe thead th {\n",
       "        text-align: right;\n",
       "    }\n",
       "</style>\n",
       "<table border=\"1\" class=\"dataframe\">\n",
       "  <thead>\n",
       "    <tr style=\"text-align: right;\">\n",
       "      <th></th>\n",
       "      <th>index</th>\n",
       "      <th>latitude</th>\n",
       "      <th>longitude</th>\n",
       "      <th>address</th>\n",
       "      <th>id</th>\n",
       "    </tr>\n",
       "  </thead>\n",
       "  <tbody>\n",
       "    <tr>\n",
       "      <th>0</th>\n",
       "      <td>0</td>\n",
       "      <td>31.237872</td>\n",
       "      <td>121.470259</td>\n",
       "      <td>31.237872-121.470259</td>\n",
       "      <td>0</td>\n",
       "    </tr>\n",
       "    <tr>\n",
       "      <th>1</th>\n",
       "      <td>14</td>\n",
       "      <td>31.246946</td>\n",
       "      <td>121.513919</td>\n",
       "      <td>31.246946-121.513919</td>\n",
       "      <td>1</td>\n",
       "    </tr>\n",
       "    <tr>\n",
       "      <th>2</th>\n",
       "      <td>15</td>\n",
       "      <td>31.232877</td>\n",
       "      <td>121.487530</td>\n",
       "      <td>31.232877-121.48753</td>\n",
       "      <td>2</td>\n",
       "    </tr>\n",
       "    <tr>\n",
       "      <th>3</th>\n",
       "      <td>28</td>\n",
       "      <td>31.227933</td>\n",
       "      <td>121.453610</td>\n",
       "      <td>31.227933-121.45361</td>\n",
       "      <td>3</td>\n",
       "    </tr>\n",
       "    <tr>\n",
       "      <th>4</th>\n",
       "      <td>50</td>\n",
       "      <td>31.235682</td>\n",
       "      <td>121.487831</td>\n",
       "      <td>31.235682-121.487831</td>\n",
       "      <td>4</td>\n",
       "    </tr>\n",
       "  </tbody>\n",
       "</table>\n",
       "</div>"
      ],
      "text/plain": [
       "   index   latitude   longitude               address  id\n",
       "0      0  31.237872  121.470259  31.237872-121.470259   0\n",
       "1     14  31.246946  121.513919  31.246946-121.513919   1\n",
       "2     15  31.232877  121.487530   31.232877-121.48753   2\n",
       "3     28  31.227933  121.453610   31.227933-121.45361   3\n",
       "4     50  31.235682  121.487831  31.235682-121.487831   4"
      ]
     },
     "execution_count": 21,
     "metadata": {},
     "output_type": "execute_result"
    }
   ],
   "source": [
    "bs_min.head()"
   ]
  }
 ],
 "metadata": {
  "kernelspec": {
   "display_name": "Python 3.10 (iqbal)",
   "language": "python",
   "name": "iqbal"
  },
  "language_info": {
   "codemirror_mode": {
    "name": "ipython",
    "version": 3
   },
   "file_extension": ".py",
   "mimetype": "text/x-python",
   "name": "python",
   "nbconvert_exporter": "python",
   "pygments_lexer": "ipython3",
   "version": "3.10.4"
  }
 },
 "nbformat": 4,
 "nbformat_minor": 5
}
