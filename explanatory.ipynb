{
 "cells": [
  {
   "cell_type": "code",
   "execution_count": 16,
   "id": "5d5531d0-bd03-40d3-bb86-6472309f4e28",
   "metadata": {},
   "outputs": [],
   "source": [
    "import pandas as pd\n",
    "import numpy as np\n",
    "import logging"
   ]
  },
  {
   "cell_type": "code",
   "execution_count": 37,
   "id": "5694f058-ee01-4972-8ed1-00a4b7e4d196",
   "metadata": {},
   "outputs": [],
   "source": [
    "# File path\n",
    "data_6m = './dataset/raw/dataset_6m.csv'\n",
    "data_15d = './dataset/raw/dataset_15d.csv'\n",
    "bs_csv = './dataset/bs_all.csv'\n",
    "user_csv = './dataset/data_all.csv'\n",
    "data_6m_clean = 'data_6m_clean.csv'"
   ]
  },
  {
   "cell_type": "code",
   "execution_count": 41,
   "id": "6c46cfa1-2999-4f1e-a3aa-644d6d163121",
   "metadata": {},
   "outputs": [],
   "source": [
    "def preprocess_data(file_path):\n",
    "    \n",
    "    logging.basicConfig(level=logging.INFO)\n",
    "    \n",
    "    # Read CSV file\n",
    "    data = pd.read_csv(file_path)\n",
    "\n",
    "    # Sort by time\n",
    "    data['start time'] = pd.to_datetime(data['start time'])\n",
    "    data['end time'] = pd.to_datetime(data['end time'])\n",
    "    data = data.sort_values(by='start time')\n",
    "    logging.info(\"File sorted by start time\")\n",
    "\n",
    "    # Drop null values\n",
    "    data = data.dropna()\n",
    "\n",
    "    # Add address column\n",
    "    data['address'] = data.apply(lambda x: f\"{x['latitude']}-{x['longitude']}\", axis=1)\n",
    "    logging.info(\"Added address column\")\n",
    "\n",
    "    # Save user data to CSV\n",
    "    filename_user = \"user_data.csv\"\n",
    "    data = data.to_csv(filename_user, index=False)\n",
    "    logging.info(f\"User data successfully saved to {filename_user}\")\n",
    "\n",
    "    # Extract base station data\n",
    "    data = data[['latitude', 'longitude', 'address']].drop_duplicates()\n",
    "    data.reset_index(drop=True)\n",
    "\n",
    "    # Assign base station ID\n",
    "    data['bs_id'] = data.index\n",
    "\n",
    "    # Save base station data to CSV\n",
    "    filename_bs = \"data_bs.csv\"\n",
    "    data_bs.to_csv(filename_bs, index=False)\n",
    "    logging.info(f\"Base station data successfully saved to {filename_bs}\")\n",
    "\n",
    "    return data_user, data_bs"
   ]
  },
  {
   "cell_type": "code",
   "execution_count": 42,
   "id": "452eed79-83b5-47a1-88c2-148b1baa50a6",
   "metadata": {},
   "outputs": [
    {
     "ename": "TypeError",
     "evalue": "'NoneType' object is not subscriptable",
     "output_type": "error",
     "traceback": [
      "\u001b[0;31m---------------------------------------------------------------------------\u001b[0m",
      "\u001b[0;31mTypeError\u001b[0m                                 Traceback (most recent call last)",
      "Cell \u001b[0;32mIn[42], line 1\u001b[0m\n\u001b[0;32m----> 1\u001b[0m \u001b[43mpreprocess_data\u001b[49m\u001b[43m(\u001b[49m\u001b[43mdata_6m\u001b[49m\u001b[43m)\u001b[49m\n",
      "Cell \u001b[0;32mIn[41], line 27\u001b[0m, in \u001b[0;36mpreprocess_data\u001b[0;34m(file_path)\u001b[0m\n\u001b[1;32m     24\u001b[0m logging\u001b[38;5;241m.\u001b[39minfo(\u001b[38;5;124mf\u001b[39m\u001b[38;5;124m\"\u001b[39m\u001b[38;5;124mUser data successfully saved to \u001b[39m\u001b[38;5;132;01m{\u001b[39;00mfilename_user\u001b[38;5;132;01m}\u001b[39;00m\u001b[38;5;124m\"\u001b[39m)\n\u001b[1;32m     26\u001b[0m \u001b[38;5;66;03m# Extract base station data\u001b[39;00m\n\u001b[0;32m---> 27\u001b[0m data \u001b[38;5;241m=\u001b[39m \u001b[43mdata\u001b[49m\u001b[43m[\u001b[49m\u001b[43m[\u001b[49m\u001b[38;5;124;43m'\u001b[39;49m\u001b[38;5;124;43mlatitude\u001b[39;49m\u001b[38;5;124;43m'\u001b[39;49m\u001b[43m,\u001b[49m\u001b[43m \u001b[49m\u001b[38;5;124;43m'\u001b[39;49m\u001b[38;5;124;43mlongitude\u001b[39;49m\u001b[38;5;124;43m'\u001b[39;49m\u001b[43m,\u001b[49m\u001b[43m \u001b[49m\u001b[38;5;124;43m'\u001b[39;49m\u001b[38;5;124;43maddress\u001b[39;49m\u001b[38;5;124;43m'\u001b[39;49m\u001b[43m]\u001b[49m\u001b[43m]\u001b[49m\u001b[38;5;241m.\u001b[39mdrop_duplicates()\n\u001b[1;32m     28\u001b[0m data\u001b[38;5;241m.\u001b[39mreset_index(drop\u001b[38;5;241m=\u001b[39m\u001b[38;5;28;01mTrue\u001b[39;00m)\n\u001b[1;32m     30\u001b[0m \u001b[38;5;66;03m# Assign base station ID\u001b[39;00m\n",
      "\u001b[0;31mTypeError\u001b[0m: 'NoneType' object is not subscriptable"
     ]
    }
   ],
   "source": [
    "preprocess_data(data_6m)"
   ]
  },
  {
   "cell_type": "code",
   "execution_count": 30,
   "id": "89bcf2f3-2fa9-4dc0-9f8e-568aa806ab16",
   "metadata": {},
   "outputs": [],
   "source": [
    "df = pd.read_csv(data_6m)\n",
    "\n",
    "# Sort by time\n",
    "df['start time'] = pd.to_datetime(df['start time'])\n",
    "df['end time'] = pd.to_datetime(df['end time'])\n",
    "df = data.sort_values(by='start time')\n",
    "logging.info(\"File sorted by start time\")\n",
    "\n",
    "# Drop null values\n",
    "df = df.dropna()\n",
    "\n",
    "# Add address column\n",
    "df['address'] = df.apply(lambda x: f\"{x['latitude']}-{x['longitude']}\", axis=1)\n",
    "logging.info(\"Added address column\")\n",
    "\n",
    "df.to_csv(\"data_6m_clean.csv\", index=False)"
   ]
  }
 ],
 "metadata": {
  "kernelspec": {
   "display_name": "Iqbal",
   "language": "python",
   "name": "iqbal_env"
  },
  "language_info": {
   "codemirror_mode": {
    "name": "ipython",
    "version": 3
   },
   "file_extension": ".py",
   "mimetype": "text/x-python",
   "name": "python",
   "nbconvert_exporter": "python",
   "pygments_lexer": "ipython3",
   "version": "3.10.16"
  }
 },
 "nbformat": 4,
 "nbformat_minor": 5
}
