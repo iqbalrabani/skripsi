{
 "cells": [
  {
   "cell_type": "code",
   "execution_count": 1,
   "id": "d98dbe53-9a9b-48dc-bfff-e9383a00a937",
   "metadata": {},
   "outputs": [],
   "source": [
    "import pandas as pd\n",
    "import numpy as np\n",
    "import logging"
   ]
  },
  {
   "cell_type": "code",
   "execution_count": 2,
   "id": "7e72be66-3204-4346-99c0-a829facd8b5e",
   "metadata": {},
   "outputs": [],
   "source": [
    "\"\"\"\n",
    "BaseStation Class\n",
    "\"\"\"\n",
    "class BaseStation:\n",
    "    def __init__(self, id, addr, lat, lng):\n",
    "        self.id = id\n",
    "        self.address = addr\n",
    "        self.lattitude = lat\n",
    "        self.longitude = lng\n",
    "        self.num_users = 0\n",
    "        self.workload = 0\n",
    "        self.potential_user = 0 # nilai skor potential user\n",
    "    \n",
    "    def __str__(self):\n",
    "        return f\"No.{self.id}: {self.addrress}\""
   ]
  },
  {
   "cell_type": "code",
   "execution_count": 6,
   "id": "cf63251b-ac1e-4cf8-80c0-aa2c043a52b7",
   "metadata": {},
   "outputs": [],
   "source": [
    "\"\"\"\n",
    "Fungsi untuk memuat data BS dari CSV dan menghasilkan daftar BS\n",
    "\"\"\"\n",
    "def load_base_station(bs_csv_path):\n",
    "    bs_data = pd.read_csv(bs_csv_path, index_col=0)\n",
    "    base_stations = []\n",
    "    for idx, row in bs_data.iterrows():\n",
    "        bs = BaseStation(id=int(row['id']), addr=row['address'], \n",
    "                         lat=float(row['latitude']), \n",
    "                         lng=float(row['longitude']))\n",
    "        base_stations.append(bs)\n",
    "    return base_stations"
   ]
  },
  {
   "cell_type": "code",
   "execution_count": 8,
   "id": "8ccc88aa-f76c-4879-ab34-0d2afbb511ca",
   "metadata": {},
   "outputs": [],
   "source": [
    "bs_csv = 'bs_all.csv'\n",
    "user_csv = 'data_all.csv'\n",
    "\n",
    "base_stations = load_base_station(bs_csv)\n",
    "logging.info(f\"Loaded {len(base_stations)} base station\")"
   ]
  },
  {
   "cell_type": "code",
   "execution_count": null,
   "id": "ef949662-f6a8-4aca-9cc3-c5fac2ff8f2c",
   "metadata": {},
   "outputs": [],
   "source": [
    "\"\"\"\n",
    "Fungsi untuk menggabungkan data transaksi pengguna ke tiap BS\n",
    "\"\"\"\n",
    "def aggregate_user_data(base_stations, user_csv_path):\n",
    "    # Mapping dari address ke objek BS\n",
    "    addr_to_bs = {bs.address: bs for bs in base_stations}\n",
    "    \n",
    "    # Memuat data transaksi pengguna\n",
    "    user_data = pd.read_csv(user_csv_path, index_col=0)\n",
    "    user_data['start time'] = pd.to_datetime(user_data['start time'])\n",
    "    user_data['end time'] = pd.todatetime(user_date['end time'])\n",
    "    \n",
    "    # Menghitung durasi layanan dalam menit\n",
    "    user_data['service_time'] = (user_data['end time'] - user_data['start time']).dt.total_seconds() / 60\n",
    "    \n",
    "    # Agregasi berdasarkan address: total service_time, jumlah pengguna unik, dan jumlah transaksi\n",
    "    grouped = user_data.groupby('address').agg({\n",
    "        'service_time': 'sum',\n",
    "        'user_id': pd.Series.nunique,\n",
    "        'start time': 'count'\n",
    "    }).rename(columns={'user id': 'unique users', 'start time': 'transaction_count'})\n",
    "\n",
    "    # Input data agregasi ke masing-masing BS\n",
    "    for bs in base_stations:\n",
    "        if bs.address in grouped.index:\n",
    "            row = grouped.loc[bs.address]\n",
    "            bs.workload = row['service_time']\n",
    "            bs.num_users = row['unique_users']\n",
    "        else:\n",
    "            bs.workload = 0\n",
    "            bs.num_users = 0\n",
    "    return base_stations    "
   ]
  },
  {
   "cell_type": "code",
   "execution_count": null,
   "id": "af29e4e8-c231-4373-876f-e3e0d094f81d",
   "metadata": {},
   "outputs": [],
   "source": [
    "\"\"\"\n",
    "Menghitung skor potential user pada tiap BS dengan \n",
    "menggabungkan jumlah pengguna unik dan total service_time \n",
    "(dengan normalisasi sederhana).\n",
    "\"\"\"\n",
    "\n",
    "def compute_potential_user(base_stations):\n",
    "    user_counts = np.array([bas.num_users for bs in base_stations])\n",
    "    workloads = np.array([bs.workload for bs in base_stations])\n",
    "    \n",
    "    # Normalisasi, antara 0 dan 1\n",
    "    if user_counts.max() > user_counts.min():\n",
    "        norm_users = (user_counts - user_counts.min() / user_counts.max() - user_counts.min())\n",
    "    else:\n",
    "        norm_users = user_counts\n",
    "        \n",
    "    if workloads.max() > workloads.min():\n",
    "        norm_workloads = (workloads - workloads.min()) / (workloads.max() - workloads.min())\n",
    "    else:\n",
    "        norm_workloads = workloads\n",
    "    \n",
    "    # Kombinasi sederhana dengan memeakai bobot yang sama\n",
    "    for i, bs in enumerate(base_stations):\n",
    "        bs.potential_user = 0.5 * norm_users[i] + 0.5 * norm_workloads[i]\n",
    "    return base_stations"
   ]
  },
  {
   "cell_type": "code",
   "execution_count": null,
   "id": "9636881f-c093-41fe-99bd-6077b785a3ff",
   "metadata": {},
   "outputs": [],
   "source": [
    "\"\"\"\n",
    "Menyaring BS dengan skor potential_user di bawah threshold\n",
    "\"\"\"\n",
    "\n",
    "def filte_base_station(base_stations, threshold=0.1):\n",
    "    filtered = [bs for bs in base_stations if bs.potential_user >= threshold]\n",
    "    logging.info(f\"Filtered out {len(base_stations) - len(filtered)} base stations below threshold {threshold}\")\n",
    "    return filtered"
   ]
  }
 ],
 "metadata": {
  "kernelspec": {
   "display_name": "Python 3.10 (iqbalenv)",
   "language": "python",
   "name": "iqbalenv"
  },
  "language_info": {
   "codemirror_mode": {
    "name": "ipython",
    "version": 3
   },
   "file_extension": ".py",
   "mimetype": "text/x-python",
   "name": "python",
   "nbconvert_exporter": "python",
   "pygments_lexer": "ipython3",
   "version": "3.10.4"
  }
 },
 "nbformat": 4,
 "nbformat_minor": 5
}
